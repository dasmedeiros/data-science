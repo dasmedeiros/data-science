{
  "cells": [
    {
      "cell_type": "code",
      "execution_count": null,
      "metadata": {
        "id": "kMm8Gf6FleEE"
      },
      "outputs": [],
      "source": [
        "#Load Libraries\n",
        "import numpy as np\n",
        "import pandas as pd\n",
        "import matplotlib.pyplot as plt\n",
        "%matplotlib inline\n",
        "import seaborn as sns"
      ]
    },
    {
      "cell_type": "code",
      "execution_count": null,
      "metadata": {
        "colab": {
          "base_uri": "https://localhost:8080/",
          "height": 206
        },
        "id": "NX9of0oWleEF",
        "outputId": "534056ce-de82-4cb5-b478-82b02be6272b"
      },
      "outputs": [
        {
          "output_type": "execute_result",
          "data": {
            "text/plain": [
              "   X1  X2  X3  X4  X5  X6  D\n",
              "0   3   3   3   4   2   4  0\n",
              "1   3   2   3   5   4   3  0\n",
              "2   5   3   3   3   3   5  1\n",
              "3   5   4   3   3   3   5  0\n",
              "4   5   4   3   3   3   5  0"
            ],
            "text/html": [
              "\n",
              "  <div id=\"df-1553d4e1-4f7d-46f2-969e-543012932887\">\n",
              "    <div class=\"colab-df-container\">\n",
              "      <div>\n",
              "<style scoped>\n",
              "    .dataframe tbody tr th:only-of-type {\n",
              "        vertical-align: middle;\n",
              "    }\n",
              "\n",
              "    .dataframe tbody tr th {\n",
              "        vertical-align: top;\n",
              "    }\n",
              "\n",
              "    .dataframe thead th {\n",
              "        text-align: right;\n",
              "    }\n",
              "</style>\n",
              "<table border=\"1\" class=\"dataframe\">\n",
              "  <thead>\n",
              "    <tr style=\"text-align: right;\">\n",
              "      <th></th>\n",
              "      <th>X1</th>\n",
              "      <th>X2</th>\n",
              "      <th>X3</th>\n",
              "      <th>X4</th>\n",
              "      <th>X5</th>\n",
              "      <th>X6</th>\n",
              "      <th>D</th>\n",
              "    </tr>\n",
              "  </thead>\n",
              "  <tbody>\n",
              "    <tr>\n",
              "      <th>0</th>\n",
              "      <td>3</td>\n",
              "      <td>3</td>\n",
              "      <td>3</td>\n",
              "      <td>4</td>\n",
              "      <td>2</td>\n",
              "      <td>4</td>\n",
              "      <td>0</td>\n",
              "    </tr>\n",
              "    <tr>\n",
              "      <th>1</th>\n",
              "      <td>3</td>\n",
              "      <td>2</td>\n",
              "      <td>3</td>\n",
              "      <td>5</td>\n",
              "      <td>4</td>\n",
              "      <td>3</td>\n",
              "      <td>0</td>\n",
              "    </tr>\n",
              "    <tr>\n",
              "      <th>2</th>\n",
              "      <td>5</td>\n",
              "      <td>3</td>\n",
              "      <td>3</td>\n",
              "      <td>3</td>\n",
              "      <td>3</td>\n",
              "      <td>5</td>\n",
              "      <td>1</td>\n",
              "    </tr>\n",
              "    <tr>\n",
              "      <th>3</th>\n",
              "      <td>5</td>\n",
              "      <td>4</td>\n",
              "      <td>3</td>\n",
              "      <td>3</td>\n",
              "      <td>3</td>\n",
              "      <td>5</td>\n",
              "      <td>0</td>\n",
              "    </tr>\n",
              "    <tr>\n",
              "      <th>4</th>\n",
              "      <td>5</td>\n",
              "      <td>4</td>\n",
              "      <td>3</td>\n",
              "      <td>3</td>\n",
              "      <td>3</td>\n",
              "      <td>5</td>\n",
              "      <td>0</td>\n",
              "    </tr>\n",
              "  </tbody>\n",
              "</table>\n",
              "</div>\n",
              "      <button class=\"colab-df-convert\" onclick=\"convertToInteractive('df-1553d4e1-4f7d-46f2-969e-543012932887')\"\n",
              "              title=\"Convert this dataframe to an interactive table.\"\n",
              "              style=\"display:none;\">\n",
              "        \n",
              "  <svg xmlns=\"http://www.w3.org/2000/svg\" height=\"24px\"viewBox=\"0 0 24 24\"\n",
              "       width=\"24px\">\n",
              "    <path d=\"M0 0h24v24H0V0z\" fill=\"none\"/>\n",
              "    <path d=\"M18.56 5.44l.94 2.06.94-2.06 2.06-.94-2.06-.94-.94-2.06-.94 2.06-2.06.94zm-11 1L8.5 8.5l.94-2.06 2.06-.94-2.06-.94L8.5 2.5l-.94 2.06-2.06.94zm10 10l.94 2.06.94-2.06 2.06-.94-2.06-.94-.94-2.06-.94 2.06-2.06.94z\"/><path d=\"M17.41 7.96l-1.37-1.37c-.4-.4-.92-.59-1.43-.59-.52 0-1.04.2-1.43.59L10.3 9.45l-7.72 7.72c-.78.78-.78 2.05 0 2.83L4 21.41c.39.39.9.59 1.41.59.51 0 1.02-.2 1.41-.59l7.78-7.78 2.81-2.81c.8-.78.8-2.07 0-2.86zM5.41 20L4 18.59l7.72-7.72 1.47 1.35L5.41 20z\"/>\n",
              "  </svg>\n",
              "      </button>\n",
              "      \n",
              "  <style>\n",
              "    .colab-df-container {\n",
              "      display:flex;\n",
              "      flex-wrap:wrap;\n",
              "      gap: 12px;\n",
              "    }\n",
              "\n",
              "    .colab-df-convert {\n",
              "      background-color: #E8F0FE;\n",
              "      border: none;\n",
              "      border-radius: 50%;\n",
              "      cursor: pointer;\n",
              "      display: none;\n",
              "      fill: #1967D2;\n",
              "      height: 32px;\n",
              "      padding: 0 0 0 0;\n",
              "      width: 32px;\n",
              "    }\n",
              "\n",
              "    .colab-df-convert:hover {\n",
              "      background-color: #E2EBFA;\n",
              "      box-shadow: 0px 1px 2px rgba(60, 64, 67, 0.3), 0px 1px 3px 1px rgba(60, 64, 67, 0.15);\n",
              "      fill: #174EA6;\n",
              "    }\n",
              "\n",
              "    [theme=dark] .colab-df-convert {\n",
              "      background-color: #3B4455;\n",
              "      fill: #D2E3FC;\n",
              "    }\n",
              "\n",
              "    [theme=dark] .colab-df-convert:hover {\n",
              "      background-color: #434B5C;\n",
              "      box-shadow: 0px 1px 3px 1px rgba(0, 0, 0, 0.15);\n",
              "      filter: drop-shadow(0px 1px 2px rgba(0, 0, 0, 0.3));\n",
              "      fill: #FFFFFF;\n",
              "    }\n",
              "  </style>\n",
              "\n",
              "      <script>\n",
              "        const buttonEl =\n",
              "          document.querySelector('#df-1553d4e1-4f7d-46f2-969e-543012932887 button.colab-df-convert');\n",
              "        buttonEl.style.display =\n",
              "          google.colab.kernel.accessAllowed ? 'block' : 'none';\n",
              "\n",
              "        async function convertToInteractive(key) {\n",
              "          const element = document.querySelector('#df-1553d4e1-4f7d-46f2-969e-543012932887');\n",
              "          const dataTable =\n",
              "            await google.colab.kernel.invokeFunction('convertToInteractive',\n",
              "                                                     [key], {});\n",
              "          if (!dataTable) return;\n",
              "\n",
              "          const docLinkHtml = 'Like what you see? Visit the ' +\n",
              "            '<a target=\"_blank\" href=https://colab.research.google.com/notebooks/data_table.ipynb>data table notebook</a>'\n",
              "            + ' to learn more about interactive tables.';\n",
              "          element.innerHTML = '';\n",
              "          dataTable['output_type'] = 'display_data';\n",
              "          await google.colab.output.renderOutput(dataTable, element);\n",
              "          const docLink = document.createElement('div');\n",
              "          docLink.innerHTML = docLinkHtml;\n",
              "          element.appendChild(docLink);\n",
              "        }\n",
              "      </script>\n",
              "    </div>\n",
              "  </div>\n",
              "  "
            ]
          },
          "metadata": {},
          "execution_count": 4
        }
      ],
      "source": [
        "#Load Dataset\n",
        "Happy=pd.read_csv('./Happy_Dataset.csv')\n",
        "Happy.head()"
      ]
    },
    {
      "cell_type": "code",
      "execution_count": null,
      "metadata": {
        "colab": {
          "base_uri": "https://localhost:8080/",
          "height": 300
        },
        "id": "5KTh0GGQleEG",
        "outputId": "d82919ec-6051-4987-c1d7-9732fd339b60"
      },
      "outputs": [
        {
          "output_type": "execute_result",
          "data": {
            "text/plain": [
              "               X1          X2          X3          X4          X5          X6  \\\n",
              "count  143.000000  143.000000  143.000000  143.000000  143.000000  143.000000   \n",
              "mean     4.314685    2.538462    3.265734    3.699301    3.615385    4.216783   \n",
              "std      0.799820    1.118155    0.992586    0.888383    1.131639    0.848693   \n",
              "min      1.000000    1.000000    1.000000    1.000000    1.000000    1.000000   \n",
              "25%      4.000000    2.000000    3.000000    3.000000    3.000000    4.000000   \n",
              "50%      5.000000    3.000000    3.000000    4.000000    4.000000    4.000000   \n",
              "75%      5.000000    3.000000    4.000000    4.000000    4.000000    5.000000   \n",
              "max      5.000000    5.000000    5.000000    5.000000    5.000000    5.000000   \n",
              "\n",
              "                D  \n",
              "count  143.000000  \n",
              "mean     0.538462  \n",
              "std      0.500271  \n",
              "min      0.000000  \n",
              "25%      0.000000  \n",
              "50%      1.000000  \n",
              "75%      1.000000  \n",
              "max      1.000000  "
            ],
            "text/html": [
              "\n",
              "  <div id=\"df-383f3d11-2d9e-49b2-a43a-f1f9d353937f\">\n",
              "    <div class=\"colab-df-container\">\n",
              "      <div>\n",
              "<style scoped>\n",
              "    .dataframe tbody tr th:only-of-type {\n",
              "        vertical-align: middle;\n",
              "    }\n",
              "\n",
              "    .dataframe tbody tr th {\n",
              "        vertical-align: top;\n",
              "    }\n",
              "\n",
              "    .dataframe thead th {\n",
              "        text-align: right;\n",
              "    }\n",
              "</style>\n",
              "<table border=\"1\" class=\"dataframe\">\n",
              "  <thead>\n",
              "    <tr style=\"text-align: right;\">\n",
              "      <th></th>\n",
              "      <th>X1</th>\n",
              "      <th>X2</th>\n",
              "      <th>X3</th>\n",
              "      <th>X4</th>\n",
              "      <th>X5</th>\n",
              "      <th>X6</th>\n",
              "      <th>D</th>\n",
              "    </tr>\n",
              "  </thead>\n",
              "  <tbody>\n",
              "    <tr>\n",
              "      <th>count</th>\n",
              "      <td>143.000000</td>\n",
              "      <td>143.000000</td>\n",
              "      <td>143.000000</td>\n",
              "      <td>143.000000</td>\n",
              "      <td>143.000000</td>\n",
              "      <td>143.000000</td>\n",
              "      <td>143.000000</td>\n",
              "    </tr>\n",
              "    <tr>\n",
              "      <th>mean</th>\n",
              "      <td>4.314685</td>\n",
              "      <td>2.538462</td>\n",
              "      <td>3.265734</td>\n",
              "      <td>3.699301</td>\n",
              "      <td>3.615385</td>\n",
              "      <td>4.216783</td>\n",
              "      <td>0.538462</td>\n",
              "    </tr>\n",
              "    <tr>\n",
              "      <th>std</th>\n",
              "      <td>0.799820</td>\n",
              "      <td>1.118155</td>\n",
              "      <td>0.992586</td>\n",
              "      <td>0.888383</td>\n",
              "      <td>1.131639</td>\n",
              "      <td>0.848693</td>\n",
              "      <td>0.500271</td>\n",
              "    </tr>\n",
              "    <tr>\n",
              "      <th>min</th>\n",
              "      <td>1.000000</td>\n",
              "      <td>1.000000</td>\n",
              "      <td>1.000000</td>\n",
              "      <td>1.000000</td>\n",
              "      <td>1.000000</td>\n",
              "      <td>1.000000</td>\n",
              "      <td>0.000000</td>\n",
              "    </tr>\n",
              "    <tr>\n",
              "      <th>25%</th>\n",
              "      <td>4.000000</td>\n",
              "      <td>2.000000</td>\n",
              "      <td>3.000000</td>\n",
              "      <td>3.000000</td>\n",
              "      <td>3.000000</td>\n",
              "      <td>4.000000</td>\n",
              "      <td>0.000000</td>\n",
              "    </tr>\n",
              "    <tr>\n",
              "      <th>50%</th>\n",
              "      <td>5.000000</td>\n",
              "      <td>3.000000</td>\n",
              "      <td>3.000000</td>\n",
              "      <td>4.000000</td>\n",
              "      <td>4.000000</td>\n",
              "      <td>4.000000</td>\n",
              "      <td>1.000000</td>\n",
              "    </tr>\n",
              "    <tr>\n",
              "      <th>75%</th>\n",
              "      <td>5.000000</td>\n",
              "      <td>3.000000</td>\n",
              "      <td>4.000000</td>\n",
              "      <td>4.000000</td>\n",
              "      <td>4.000000</td>\n",
              "      <td>5.000000</td>\n",
              "      <td>1.000000</td>\n",
              "    </tr>\n",
              "    <tr>\n",
              "      <th>max</th>\n",
              "      <td>5.000000</td>\n",
              "      <td>5.000000</td>\n",
              "      <td>5.000000</td>\n",
              "      <td>5.000000</td>\n",
              "      <td>5.000000</td>\n",
              "      <td>5.000000</td>\n",
              "      <td>1.000000</td>\n",
              "    </tr>\n",
              "  </tbody>\n",
              "</table>\n",
              "</div>\n",
              "      <button class=\"colab-df-convert\" onclick=\"convertToInteractive('df-383f3d11-2d9e-49b2-a43a-f1f9d353937f')\"\n",
              "              title=\"Convert this dataframe to an interactive table.\"\n",
              "              style=\"display:none;\">\n",
              "        \n",
              "  <svg xmlns=\"http://www.w3.org/2000/svg\" height=\"24px\"viewBox=\"0 0 24 24\"\n",
              "       width=\"24px\">\n",
              "    <path d=\"M0 0h24v24H0V0z\" fill=\"none\"/>\n",
              "    <path d=\"M18.56 5.44l.94 2.06.94-2.06 2.06-.94-2.06-.94-.94-2.06-.94 2.06-2.06.94zm-11 1L8.5 8.5l.94-2.06 2.06-.94-2.06-.94L8.5 2.5l-.94 2.06-2.06.94zm10 10l.94 2.06.94-2.06 2.06-.94-2.06-.94-.94-2.06-.94 2.06-2.06.94z\"/><path d=\"M17.41 7.96l-1.37-1.37c-.4-.4-.92-.59-1.43-.59-.52 0-1.04.2-1.43.59L10.3 9.45l-7.72 7.72c-.78.78-.78 2.05 0 2.83L4 21.41c.39.39.9.59 1.41.59.51 0 1.02-.2 1.41-.59l7.78-7.78 2.81-2.81c.8-.78.8-2.07 0-2.86zM5.41 20L4 18.59l7.72-7.72 1.47 1.35L5.41 20z\"/>\n",
              "  </svg>\n",
              "      </button>\n",
              "      \n",
              "  <style>\n",
              "    .colab-df-container {\n",
              "      display:flex;\n",
              "      flex-wrap:wrap;\n",
              "      gap: 12px;\n",
              "    }\n",
              "\n",
              "    .colab-df-convert {\n",
              "      background-color: #E8F0FE;\n",
              "      border: none;\n",
              "      border-radius: 50%;\n",
              "      cursor: pointer;\n",
              "      display: none;\n",
              "      fill: #1967D2;\n",
              "      height: 32px;\n",
              "      padding: 0 0 0 0;\n",
              "      width: 32px;\n",
              "    }\n",
              "\n",
              "    .colab-df-convert:hover {\n",
              "      background-color: #E2EBFA;\n",
              "      box-shadow: 0px 1px 2px rgba(60, 64, 67, 0.3), 0px 1px 3px 1px rgba(60, 64, 67, 0.15);\n",
              "      fill: #174EA6;\n",
              "    }\n",
              "\n",
              "    [theme=dark] .colab-df-convert {\n",
              "      background-color: #3B4455;\n",
              "      fill: #D2E3FC;\n",
              "    }\n",
              "\n",
              "    [theme=dark] .colab-df-convert:hover {\n",
              "      background-color: #434B5C;\n",
              "      box-shadow: 0px 1px 3px 1px rgba(0, 0, 0, 0.15);\n",
              "      filter: drop-shadow(0px 1px 2px rgba(0, 0, 0, 0.3));\n",
              "      fill: #FFFFFF;\n",
              "    }\n",
              "  </style>\n",
              "\n",
              "      <script>\n",
              "        const buttonEl =\n",
              "          document.querySelector('#df-383f3d11-2d9e-49b2-a43a-f1f9d353937f button.colab-df-convert');\n",
              "        buttonEl.style.display =\n",
              "          google.colab.kernel.accessAllowed ? 'block' : 'none';\n",
              "\n",
              "        async function convertToInteractive(key) {\n",
              "          const element = document.querySelector('#df-383f3d11-2d9e-49b2-a43a-f1f9d353937f');\n",
              "          const dataTable =\n",
              "            await google.colab.kernel.invokeFunction('convertToInteractive',\n",
              "                                                     [key], {});\n",
              "          if (!dataTable) return;\n",
              "\n",
              "          const docLinkHtml = 'Like what you see? Visit the ' +\n",
              "            '<a target=\"_blank\" href=https://colab.research.google.com/notebooks/data_table.ipynb>data table notebook</a>'\n",
              "            + ' to learn more about interactive tables.';\n",
              "          element.innerHTML = '';\n",
              "          dataTable['output_type'] = 'display_data';\n",
              "          await google.colab.output.renderOutput(dataTable, element);\n",
              "          const docLink = document.createElement('div');\n",
              "          docLink.innerHTML = docLinkHtml;\n",
              "          element.appendChild(docLink);\n",
              "        }\n",
              "      </script>\n",
              "    </div>\n",
              "  </div>\n",
              "  "
            ]
          },
          "metadata": {},
          "execution_count": 5
        }
      ],
      "source": [
        "#Show Key Statistics\n",
        "Happy.describe()"
      ]
    },
    {
      "cell_type": "code",
      "execution_count": null,
      "metadata": {
        "colab": {
          "base_uri": "https://localhost:8080/",
          "height": 379
        },
        "id": "8fRwli1TleEH",
        "outputId": "05712987-ac77-4005-b7e3-297cb3a9c27f"
      },
      "outputs": [
        {
          "output_type": "stream",
          "name": "stdout",
          "text": [
            "Class Split\n",
            "1    77\n",
            "0    66\n",
            "Name: D, dtype: int64\n"
          ]
        },
        {
          "output_type": "execute_result",
          "data": {
            "text/plain": [
              "Text(0, 0.5, 'Count')"
            ]
          },
          "metadata": {},
          "execution_count": 6
        },
        {
          "output_type": "display_data",
          "data": {
            "text/plain": [
              "<Figure size 720x288 with 1 Axes>"
            ],
            "image/png": "[encoded data removed]"
          },
          "metadata": {
            "needs_background": "light"
          }
        }
      ],
      "source": [
        "#Class Balance\n",
        "print('Class Split')\n",
        "print(Happy['D'].value_counts())\n",
        "Happy['D'].value_counts().plot.bar(figsize=(10,4),title='Classes Split for Dataset')\n",
        "plt.xlabel('Classes')\n",
        "plt.ylabel('Count')"
      ]
    },
    {
      "cell_type": "code",
      "execution_count": null,
      "metadata": {
        "colab": {
          "base_uri": "https://localhost:8080/"
        },
        "id": "yzNTJR20leEH",
        "outputId": "8f201866-8feb-4c55-985c-56e275fa5682"
      },
      "outputs": [
        {
          "output_type": "stream",
          "name": "stdout",
          "text": [
            "Correlated columns @ 0.8: []\n"
          ]
        }
      ],
      "source": [
        "#Find Independent Column Correlations\n",
        "def correlation(dataset,threshold):\n",
        "    col_corr= [] # List of correlated columns\n",
        "    corr_matrix=dataset.corr() #finding correlation between columns\n",
        "    for i in range (len(corr_matrix.columns)): #Number of columns\n",
        "        for j in range (i):\n",
        "            if abs(corr_matrix.iloc[i,j])>threshold: #checking correlation between columns\n",
        "                colName=(corr_matrix.columns[i], corr_matrix.columns[j]) #getting correlated columns\n",
        "                col_corr.append(colName) #adding correlated column name\n",
        "    return col_corr #returning set of column names\n",
        "col=correlation(Happy,0.8)\n",
        "print('Correlated columns @ 0.8:', col)"
      ]
    },
    {
      "cell_type": "code",
      "execution_count": null,
      "metadata": {
        "id": "CE8ZWwjxleEH"
      },
      "outputs": [],
      "source": [
        "#Define x and y variable\n",
        "x = Happy.drop('D',axis=1).to_numpy()\n",
        "y = Happy['D'].to_numpy()\n",
        "\n",
        "# Create Train and Test Datasets\n",
        "from sklearn.model_selection import train_test_split\n",
        "x_train, x_test, y_train, y_test = train_test_split(x, y, test_size=0.20,stratify=y,random_state=100)\n",
        "\n",
        "#Scale the Data\n",
        "from sklearn.preprocessing import StandardScaler\n",
        "sc = StandardScaler()\n",
        "x_train2 = sc.fit_transform(x_train)\n",
        "x_test2 = sc.transform(x_test)\n",
        "\n",
        "#Model\n",
        "from sklearn.linear_model import LogisticRegression"
      ]
    },
    {
      "cell_type": "code",
      "execution_count": null,
      "metadata": {
        "colab": {
          "base_uri": "https://localhost:8080/"
        },
        "id": "qlH8No9BleEI",
        "outputId": "ce175b39-ac18-489b-f3ec-d04fef869038"
      },
      "outputs": [
        {
          "output_type": "stream",
          "name": "stdout",
          "text": [
            "\n",
            "Estimator: LogReg\n",
            "[[ 8  5]\n",
            " [ 2 14]]\n",
            "              precision    recall  f1-score   support\n",
            "\n",
            "           0       0.80      0.62      0.70        13\n",
            "           1       0.74      0.88      0.80        16\n",
            "\n",
            "    accuracy                           0.76        29\n",
            "   macro avg       0.77      0.75      0.75        29\n",
            "weighted avg       0.77      0.76      0.75        29\n",
            "\n"
          ]
        }
      ],
      "source": [
        "#Base Logistical Regression Model\n",
        "from sklearn.metrics import classification_report, confusion_matrix  \n",
        "\n",
        "for name,method in [('LogReg', LogisticRegression(solver='lbfgs',class_weight='balanced',\n",
        "                                               random_state=100))]: \n",
        "    method.fit(x_train2,y_train)\n",
        "    predict = method.predict(x_test2)\n",
        "    print('\\nEstimator: {}'.format(name)) \n",
        "    print(confusion_matrix(y_test,predict))  \n",
        "    print(classification_report(y_test,predict))          "
      ]
    },
    {
      "cell_type": "code",
      "execution_count": null,
      "metadata": {
        "id": "kSESOJ2-leEI"
      },
      "outputs": [],
      "source": [
        "#Construct some pipelines \n",
        "from sklearn.pipeline import Pipeline\n",
        "from sklearn.preprocessing import StandardScaler\n",
        "\n",
        "#Create Pipeline\n",
        "\n",
        "pipeline =[]\n",
        "\n",
        "pipe_logreg = Pipeline([('scl', StandardScaler()),\n",
        "                    ('clf', LogisticRegression(solver='lbfgs',class_weight='balanced',\n",
        "                                               random_state=100))])\n",
        "pipeline.insert(0,pipe_logreg)\n",
        "\n",
        "#Set grid search params \n",
        "\n",
        "modelpara =[]\n",
        "\n",
        "param_gridlogreg = {'clf__C': [0.01, 0.1, 1, 10, 100], \n",
        "                    'clf__penalty': ['l2']}\n",
        "modelpara.insert(0,param_gridlogreg)"
      ]
    },
    {
      "cell_type": "code",
      "execution_count": null,
      "metadata": {
        "id": "o6JF-5DTleEI"
      },
      "outputs": [],
      "source": [
        "#Define Plot for learning curve\n",
        "\n",
        "from sklearn.model_selection import learning_curve\n",
        "\n",
        "def plot_learning_curves(model):\n",
        "    train_sizes, train_scores, test_scores = learning_curve(estimator=model,\n",
        "                                                            X=x_train, \n",
        "                                                            y=y_train,\n",
        "                                                            train_sizes= np.linspace(0.1, 1.0, 10),\n",
        "                                                            cv=10,\n",
        "                                                            scoring='recall_weighted',random_state=100)\n",
        "    train_mean = np.mean(train_scores, axis=1)\n",
        "    train_std = np.std(train_scores, axis=1)\n",
        "    test_mean = np.mean(test_scores, axis=1)\n",
        "    test_std = np.std(test_scores, axis=1)\n",
        "    \n",
        "    plt.plot(train_sizes, train_mean,color='blue', marker='o', \n",
        "             markersize=5, label='training recall')\n",
        "    plt.fill_between(train_sizes, train_mean + train_std, train_mean - train_std,\n",
        "                     alpha=0.15, color='blue')\n",
        "\n",
        "    plt.plot(train_sizes, test_mean, color='green', linestyle='--', marker='s', markersize=5,\n",
        "             label='validation recall')\n",
        "    plt.fill_between(train_sizes, test_mean + test_std, test_mean - test_std,\n",
        "                     alpha=0.15, color='green')\n",
        "    plt.grid(True)\n",
        "    plt.xlabel('Number of training samples')\n",
        "    plt.ylabel('Recall')\n",
        "    plt.legend(loc='best')\n",
        "    plt.ylim([0.2, 1.01])\n",
        "    plt.show()"
      ]
    },
    {
      "cell_type": "code",
      "execution_count": null,
      "metadata": {
        "colab": {
          "base_uri": "https://localhost:8080/",
          "height": 298
        },
        "id": "Yn3Br9d_leEJ",
        "outputId": "4501bfab-5ab6-41fb-9903-7afacb3bcaa4"
      },
      "outputs": [
        {
          "output_type": "stream",
          "name": "stdout",
          "text": [
            "Logisistic Regression - Learning Curve\n"
          ]
        },
        {
          "output_type": "display_data",
          "data": {
            "text/plain": [
              "<Figure size 432x288 with 1 Axes>"
            ],
            "image/png": "[encoded data removed]"
          },
          "metadata": {
            "needs_background": "light"
          }
        }
      ],
      "source": [
        "#Plot Learning Curve\n",
        "print('Logisistic Regression - Learning Curve')\n",
        "plot_learning_curves(pipe_logreg)"
      ]
    },
    {
      "cell_type": "code",
      "source": [
        "%pip install mlxtend --upgrade"
      ],
      "metadata": {
        "colab": {
          "base_uri": "https://localhost:8080/"
        },
        "id": "XLX9AppZmw25",
        "outputId": "997e5ff3-c37c-456d-c51d-46611dfd1f1b"
      },
      "execution_count": null,
      "outputs": [
        {
          "output_type": "stream",
          "name": "stdout",
          "text": [
            "Looking in indexes: https://pypi.org/simple, https://us-python.pkg.dev/colab-wheels/public/simple/\n",
            "Requirement already satisfied: mlxtend in /usr/local/lib/python3.7/dist-packages (0.14.0)\n",
            "Collecting mlxtend\n",
            "  Downloading mlxtend-0.21.0-py2.py3-none-any.whl (1.3 MB)\n",
            "\u001b[K     |████████████████████████████████| 1.3 MB 5.3 MB/s \n",
            "\u001b[?25hRequirement already satisfied: numpy>=1.16.2 in /usr/local/lib/python3.7/dist-packages (from mlxtend) (1.21.6)\n",
            "Requirement already satisfied: scipy>=1.2.1 in /usr/local/lib/python3.7/dist-packages (from mlxtend) (1.7.3)\n",
            "Requirement already satisfied: scikit-learn>=1.0.2 in /usr/local/lib/python3.7/dist-packages (from mlxtend) (1.0.2)\n",
            "Requirement already satisfied: setuptools in /usr/local/lib/python3.7/dist-packages (from mlxtend) (57.4.0)\n",
            "Requirement already satisfied: matplotlib>=3.0.0 in /usr/local/lib/python3.7/dist-packages (from mlxtend) (3.2.2)\n",
            "Requirement already satisfied: pandas>=0.24.2 in /usr/local/lib/python3.7/dist-packages (from mlxtend) (1.3.5)\n",
            "Requirement already satisfied: joblib>=0.13.2 in /usr/local/lib/python3.7/dist-packages (from mlxtend) (1.2.0)\n",
            "Requirement already satisfied: cycler>=0.10 in /usr/local/lib/python3.7/dist-packages (from matplotlib>=3.0.0->mlxtend) (0.11.0)\n",
            "Requirement already satisfied: kiwisolver>=1.0.1 in /usr/local/lib/python3.7/dist-packages (from matplotlib>=3.0.0->mlxtend) (1.4.4)\n",
            "Requirement already satisfied: pyparsing!=2.0.4,!=2.1.2,!=2.1.6,>=2.0.1 in /usr/local/lib/python3.7/dist-packages (from matplotlib>=3.0.0->mlxtend) (3.0.9)\n",
            "Requirement already satisfied: python-dateutil>=2.1 in /usr/local/lib/python3.7/dist-packages (from matplotlib>=3.0.0->mlxtend) (2.8.2)\n",
            "Requirement already satisfied: typing-extensions in /usr/local/lib/python3.7/dist-packages (from kiwisolver>=1.0.1->matplotlib>=3.0.0->mlxtend) (4.1.1)\n",
            "Requirement already satisfied: pytz>=2017.3 in /usr/local/lib/python3.7/dist-packages (from pandas>=0.24.2->mlxtend) (2022.4)\n",
            "Requirement already satisfied: six>=1.5 in /usr/local/lib/python3.7/dist-packages (from python-dateutil>=2.1->matplotlib>=3.0.0->mlxtend) (1.15.0)\n",
            "Requirement already satisfied: threadpoolctl>=2.0.0 in /usr/local/lib/python3.7/dist-packages (from scikit-learn>=1.0.2->mlxtend) (3.1.0)\n",
            "Installing collected packages: mlxtend\n",
            "  Attempting uninstall: mlxtend\n",
            "    Found existing installation: mlxtend 0.14.0\n",
            "    Uninstalling mlxtend-0.14.0:\n",
            "      Successfully uninstalled mlxtend-0.14.0\n",
            "Successfully installed mlxtend-0.21.0\n"
          ]
        }
      ]
    },
    {
      "cell_type": "code",
      "source": [
        "import mlxtend"
      ],
      "metadata": {
        "id": "IxtN4ncEoeqR"
      },
      "execution_count": null,
      "outputs": []
    },
    {
      "cell_type": "code",
      "execution_count": null,
      "metadata": {
        "colab": {
          "base_uri": "https://localhost:8080/"
        },
        "id": "k2ROCHxUleEJ",
        "outputId": "120466e5-5f5f-4e07-b420-b280a3a40200"
      },
      "outputs": [
        {
          "output_type": "stream",
          "name": "stdout",
          "text": [
            "Bias Variance Trade-Off\n",
            "\n",
            "Estimator: Logistical Model\n",
            "\n",
            "Average Bias: 0.24\n",
            "Average Variance: 0.17\n"
          ]
        }
      ],
      "source": [
        "#Bias and Variance Trade-Off\n",
        "from mlxtend.evaluate import bias_variance_decomp\n",
        "\n",
        "#Bias Variance Script\n",
        "print('Bias Variance Trade-Off')\n",
        "for name,method in[('Logistical Model',pipe_logreg)]:        \n",
        "    avg_expected_loss, avg_bias, avg_var = bias_variance_decomp(\n",
        "        method, x_train2, y_train, x_test2, y_test, \n",
        "        loss='0-1_loss', random_seed=100)\n",
        "    print('\\nEstimator: {}'.format(name)) \n",
        "    print('\\nAverage Bias: {:.2f}'.format(avg_bias))\n",
        "    print('Average Variance: {:.2f}'.format(avg_var))      "
      ]
    },
    {
      "cell_type": "code",
      "execution_count": null,
      "metadata": {
        "colab": {
          "base_uri": "https://localhost:8080/",
          "height": 439
        },
        "id": "x0AL-UejleEJ",
        "outputId": "74d6d7af-4171-4bf7-bcd6-ee9a30626fb1"
      },
      "outputs": [
        {
          "output_type": "stream",
          "name": "stdout",
          "text": [
            "Model Evaluation - Recall Weighted\n",
            "Logistic Regression 0.54 +/- 0.13\n",
            "\n",
            "\n"
          ]
        },
        {
          "output_type": "display_data",
          "data": {
            "text/plain": [
              "<Figure size 360x360 with 1 Axes>"
            ],
            "image/png": "[encoded data removed]"
          },
          "metadata": {
            "needs_background": "light"
          }
        }
      ],
      "source": [
        "#Model Analysis\n",
        "from sklearn.model_selection import RepeatedKFold\n",
        "from sklearn.model_selection import cross_val_score\n",
        "\n",
        "models=[]\n",
        "models.append(('Logistic Regression',pipe_logreg))\n",
        "\n",
        "#Model Evaluation\n",
        "results =[]\n",
        "names=[]\n",
        "scoring ='recall_weighted'\n",
        "print('Model Evaluation - Recall Weighted')\n",
        "for name, model in models:\n",
        "    rkf=RepeatedKFold(n_splits=10, n_repeats=5, random_state=100)\n",
        "    cv_results = cross_val_score(model,x_train,y_train,cv=rkf,scoring=scoring)\n",
        "    results.append(cv_results)\n",
        "    names.append(name)\n",
        "    print('{} {:.2f} +/- {:.2f}'.format(name,cv_results.mean(),cv_results.std()))\n",
        "print('\\n')\n",
        "\n",
        "fig = plt.figure(figsize=(5,5))\n",
        "fig.suptitle('Boxplot View')\n",
        "ax = fig.add_subplot(111)\n",
        "sns.boxplot(data=results)\n",
        "ax.set_xticklabels(names)\n",
        "plt.ylabel('Recall')\n",
        "plt.xlabel('Model')\n",
        "plt.show()"
      ]
    },
    {
      "cell_type": "code",
      "execution_count": null,
      "metadata": {
        "id": "B6QjfQtrleEK"
      },
      "outputs": [],
      "source": [
        "#Define Gridsearch Function\n",
        "\n",
        "from sklearn.model_selection import GridSearchCV\n",
        "from sklearn.metrics import classification_report, confusion_matrix  \n",
        "\n",
        "def Gridsearch_cv(model, params):\n",
        "    \n",
        "    #Cross-validation Function\n",
        "    cv2=RepeatedKFold(n_splits=10, n_repeats=5, random_state=100)\n",
        "        \n",
        "    #GridSearch CV\n",
        "    gs_clf = GridSearchCV(model, params, cv=cv2,scoring='recall_weighted')\n",
        "    gs_clf = gs_clf.fit(x_train, y_train)\n",
        "    model = gs_clf.best_estimator_\n",
        "    \n",
        "    # Use best model and test data for final evaluation\n",
        "    y_pred = model.predict(x_test)\n",
        "    \n",
        "    #Identify Best Parameters to Optimize the Model\n",
        "    bestpara=str(gs_clf.best_params_)\n",
        "    \n",
        "    #Output Heading\n",
        "    print('\\nOptimized Model')\n",
        "    print('\\nModel Name:',str(pipeline.named_steps['clf']))\n",
        "        \n",
        "    #Output Validation Statistics\n",
        "    target_names=['Outcome 0','Outcome 1']\n",
        "    print('\\nBest Parameters:',bestpara)\n",
        "    print('\\n', confusion_matrix(y_test,y_pred))  \n",
        "    print('\\n',classification_report(y_test,y_pred,target_names=target_names)) \n",
        "        \n",
        "    #Transform the variables into binary (0,1) - ROC Curve\n",
        "    from sklearn import preprocessing\n",
        "    Forecast1=pd.DataFrame(y_pred)\n",
        "    Outcome1=pd.DataFrame(y_test)\n",
        "    lb1 = preprocessing.LabelBinarizer()\n",
        "    OutcomeB1 =lb1.fit_transform(Outcome1)\n",
        "    ForecastB1 = lb1.fit_transform(Forecast1)\n",
        "    \n",
        "    #Setup the ROC Curve\n",
        "    from sklearn.metrics import roc_curve, auc\n",
        "    from sklearn import metrics\n",
        "    fpr, tpr, threshold = metrics.roc_curve(OutcomeB1, ForecastB1)\n",
        "    roc_auc = metrics.auc(fpr, tpr)\n",
        "    print('ROC Curve')\n",
        "    #Plot the ROC Curve\n",
        "    plt.title('Receiver Operating Characteristic')\n",
        "    plt.plot(fpr, tpr, 'b', label = 'AUC = %0.2f' % roc_auc)\n",
        "    plt.legend(loc = 'lower right')\n",
        "    plt.plot([0, 1], [0, 1],'r--')\n",
        "    plt.xlim([0, 1])\n",
        "    plt.ylim([0, 1])\n",
        "    plt.ylabel('True Positive Rate')\n",
        "    plt.xlabel('False Positive Rate')\n",
        "    plt.show()   "
      ]
    },
    {
      "cell_type": "code",
      "execution_count": null,
      "metadata": {
        "colab": {
          "base_uri": "https://localhost:8080/",
          "height": 642
        },
        "id": "3bigze7XleEK",
        "outputId": "44d4a4a4-db35-45df-98da-8dfc77b8e539"
      },
      "outputs": [
        {
          "output_type": "stream",
          "name": "stdout",
          "text": [
            "\n",
            "Optimized Model\n",
            "\n",
            "Model Name: LogisticRegression(class_weight='balanced', random_state=100)\n",
            "\n",
            "Best Parameters: {'clf__C': 0.01, 'clf__penalty': 'l2'}\n",
            "\n",
            " [[ 7  6]\n",
            " [ 2 14]]\n",
            "\n",
            "               precision    recall  f1-score   support\n",
            "\n",
            "   Outcome 0       0.78      0.54      0.64        13\n",
            "   Outcome 1       0.70      0.88      0.78        16\n",
            "\n",
            "    accuracy                           0.72        29\n",
            "   macro avg       0.74      0.71      0.71        29\n",
            "weighted avg       0.73      0.72      0.71        29\n",
            "\n",
            "ROC Curve\n"
          ]
        },
        {
          "output_type": "display_data",
          "data": {
            "text/plain": [
              "<Figure size 432x288 with 1 Axes>"
            ],
            "image/png": "[encoded data removed]"
          },
          "metadata": {
            "needs_background": "light"
          }
        }
      ],
      "source": [
        "#Run Models\n",
        "\n",
        "for pipeline, modelpara in zip(pipeline,modelpara):\n",
        "    Gridsearch_cv(pipeline,modelpara)"
      ]
    },
    {
      "cell_type": "code",
      "execution_count": null,
      "metadata": {
        "colab": {
          "base_uri": "https://localhost:8080/"
        },
        "id": "7Prk4cQoleEK",
        "outputId": "87c6bfb4-f327-4075-9dc0-9c22db910050"
      },
      "outputs": [
        {
          "output_type": "stream",
          "name": "stdout",
          "text": [
            "\n",
            "Key Features: Index(['X1', 'X3', 'X6'], dtype='object')\n"
          ]
        }
      ],
      "source": [
        "#Next Steps - Feature Selection using SelectFromModel\n",
        "from sklearn.feature_selection import SelectFromModel\n",
        "clf = LogisticRegression(solver='lbfgs',class_weight='balanced',\n",
        "                                            random_state=100)\n",
        "clf.fit(x_train2,y_train)\n",
        "model = SelectFromModel(clf, prefit=True)\n",
        "feature_idx = model.get_support()\n",
        "feature_name = Happy.drop('D',axis=1).columns[feature_idx]\n",
        "print('\\nKey Features:',feature_name)"
      ]
    }
  ],
  "metadata": {
    "kernelspec": {
      "display_name": "Python 3",
      "language": "python",
      "name": "python3"
    },
    "language_info": {
      "codemirror_mode": {
        "name": "ipython",
        "version": 3
      },
      "file_extension": ".py",
      "mimetype": "text/x-python",
      "name": "python",
      "nbconvert_exporter": "python",
      "pygments_lexer": "ipython3",
      "version": "3.8.8"
    },
    "colab": {
      "provenance": []
    }
  },
  "nbformat": 4,
  "nbformat_minor": 0
}